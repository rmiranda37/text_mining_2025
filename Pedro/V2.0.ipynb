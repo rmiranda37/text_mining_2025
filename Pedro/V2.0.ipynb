{
 "cells": [
  {
   "cell_type": "code",
   "execution_count": 2,
   "id": "bc44f279",
   "metadata": {},
   "outputs": [
    {
     "name": "stdout",
     "output_type": "stream",
     "text": [
      "Requirement already satisfied: scipy in /opt/anaconda3/envs/DL/lib/python3.11/site-packages (1.15.3)\n",
      "Requirement already satisfied: numpy<2.5,>=1.23.5 in /opt/anaconda3/envs/DL/lib/python3.11/site-packages (from scipy) (2.1.3)\n"
     ]
    }
   ],
   "source": [
    "!pip install scipy"
   ]
  },
  {
   "cell_type": "code",
   "execution_count": 3,
   "id": "3b25af75",
   "metadata": {},
   "outputs": [
    {
     "name": "stderr",
     "output_type": "stream",
     "text": [
      "[nltk_data] Downloading package punkt to\n",
      "[nltk_data]     /Users/pedrosantos/nltk_data...\n",
      "[nltk_data]   Package punkt is already up-to-date!\n",
      "[nltk_data] Downloading package stopwords to\n",
      "[nltk_data]     /Users/pedrosantos/nltk_data...\n",
      "[nltk_data]   Package stopwords is already up-to-date!\n",
      "[nltk_data] Downloading package wordnet to\n",
      "[nltk_data]     /Users/pedrosantos/nltk_data...\n",
      "[nltk_data]   Package wordnet is already up-to-date!\n",
      "[nltk_data] Downloading package omw-1.4 to\n",
      "[nltk_data]     /Users/pedrosantos/nltk_data...\n",
      "[nltk_data]   Package omw-1.4 is already up-to-date!\n",
      "[nltk_data] Downloading package punkt_tab to\n",
      "[nltk_data]     /Users/pedrosantos/nltk_data...\n",
      "[nltk_data]   Package punkt_tab is already up-to-date!\n"
     ]
    }
   ],
   "source": [
    "import pandas as pd\n",
    "import numpy as np\n",
    "import matplotlib.pyplot as plt\n",
    "import seaborn as sns\n",
    "from wordcloud import WordCloud\n",
    "# from google.colab import drive\n",
    "\n",
    "from sklearn.feature_extraction.text import CountVectorizer\n",
    "from sklearn.feature_extraction.text import TfidfVectorizer\n",
    "import nltk\n",
    "from nltk.corpus import stopwords\n",
    "from nltk.stem import PorterStemmer, WordNetLemmatizer\n",
    "import re\n",
    "\n",
    "#from gensim.models import Word2Vec\n",
    "\n",
    "from sklearn.model_selection import train_test_split\n",
    "nltk.download(\"punkt\")\n",
    "nltk.download(\"stopwords\")\n",
    "nltk.download(\"wordnet\")\n",
    "nltk.download(\"omw-1.4\")\n",
    "nltk.download(\"punkt_tab\")\n",
    "import tensorflow as tf\n",
    "from tensorflow.keras.preprocessing.text import Tokenizer\n",
    "from tensorflow.keras.preprocessing.sequence import pad_sequences\n",
    "\n",
    "from sklearn.neighbors import KNeighborsClassifier\n",
    "from sklearn.metrics import classification_report\n",
    "from sklearn.metrics import confusion_matrix\n",
    "# from gensim.models import KeyedVectors\n",
    "# import gensim.downloader as api\n",
    "import random\n",
    "import os"
   ]
  },
  {
   "cell_type": "code",
   "execution_count": 4,
   "id": "d2dc94f7",
   "metadata": {},
   "outputs": [],
   "source": [
    "#VSCODE\n",
    "train_df = pd.read_csv(r\"/Users/pedrosantos/Documents 2/Text Mining/Data/train.csv\")\n",
    "test_df = pd.read_csv(r\"/Users/pedrosantos/Documents 2/Text Mining/Data/test.csv\")"
   ]
  },
  {
   "cell_type": "code",
   "execution_count": 5,
   "id": "75dc4790",
   "metadata": {},
   "outputs": [],
   "source": [
    "X_train, X_test, y_train, y_test = train_test_split(\n",
    "    train_df[\"text\"], train_df[\"label\"], test_size=0.2, stratify=train_df[\"label\"], random_state=42)"
   ]
  },
  {
   "cell_type": "code",
   "execution_count": 6,
   "id": "67a37b14",
   "metadata": {},
   "outputs": [],
   "source": [
    "stop_words = set(stopwords.words(\"english\"))\n",
    "stemmer = PorterStemmer()\n",
    "lemmatizer = WordNetLemmatizer()\n",
    "\n",
    "def full_preprocess(text):\n",
    "    # ─── STEP 1: BASIC CLEANING ───\n",
    "    text = re.sub(r\"http\\S+|www\\S+\", \"<URL>\", text)          # Replace URLs\n",
    "    text = re.sub(r\"@\\w+\", \"<USER>\", text)                   # Replace mentions\n",
    "    text = re.sub(r\"#\", \"\", text)                            # Remove hashtag symbol\n",
    "    text = re.sub(r\"[^\\w\\s]\", \" \", text)                 # Remove punctuation selectively\n",
    "    text = text.lower()                                      # Lowercase\n",
    "    text = re.sub(r\"\\s+\", \" \", text).strip()                 # Normalize spaces\n",
    "\n",
    "    # ─── STEP 2: TOKENIZATION ───\n",
    "    tokens = nltk.word_tokenize(text)\n",
    "\n",
    "    # ─── STEP 3: REMOVE STOPWORDS ───\n",
    "    tokens = [word for word in tokens if word not in stop_words]\n",
    "\n",
    "    # ─── STEP 4: LEMMATIZATION ───\n",
    "    tokens = [lemmatizer.lemmatize(word) for word in tokens]\n",
    "\n",
    "    # ─── STEP 5: STEMMING ───\n",
    "    tokens = [stemmer.stem(word) for word in tokens]\n",
    "\n",
    "    return tokens"
   ]
  },
  {
   "cell_type": "code",
   "execution_count": 7,
   "id": "6532e7c4",
   "metadata": {},
   "outputs": [],
   "source": [
    "X_train_tokens = X_train.apply(full_preprocess)\n",
    "X_test_tokens = X_test.apply(full_preprocess)"
   ]
  },
  {
   "cell_type": "markdown",
   "id": "08d27cd0",
   "metadata": {},
   "source": [
    "<hr>\n",
    "<hr>"
   ]
  },
  {
   "cell_type": "markdown",
   "id": "cbc97354",
   "metadata": {},
   "source": [
    "# BoW + KNN - (Also Tried TF-IDF)"
   ]
  },
  {
   "cell_type": "code",
   "execution_count": 8,
   "id": "0c5d1518",
   "metadata": {},
   "outputs": [],
   "source": [
    "bow = CountVectorizer()\n",
    "\n",
    "tf_idf = TfidfVectorizer()\n",
    "\n",
    "# teste 1\n",
    "X_train_bow = bow.fit_transform(X_train_tokens.apply(lambda x: \" \".join(x)))\n",
    "X_test_bow = bow.transform(X_test_tokens.apply(lambda x: \" \".join(x)))\n",
    "# teste 2\n",
    "X_train_tfidf = tf_idf.fit_transform(X_train_tokens.apply(lambda x: \" \".join(x)))\n",
    "X_test_tfidf = tf_idf.transform(X_test_tokens.apply(lambda x: \" \".join(x)))"
   ]
  },
  {
   "cell_type": "code",
   "execution_count": 9,
   "id": "745b5bcf",
   "metadata": {},
   "outputs": [],
   "source": [
    "knn_values = [1, 3, 5, 7, 9, 10, 11, 12, 13, 14, 15, 16, 17, 18, 19, 20]\n",
    "knn_scores = []\n",
    "for k in knn_values:\n",
    "    knn = KNeighborsClassifier(n_neighbors=k, metric=\"cosine\", weights=\"distance\")\n",
    "    knn.fit(X_train_bow, y_train)\n",
    "    y_pred = knn.predict(X_test_bow)\n",
    "    report = classification_report(y_test, y_pred, output_dict=True)\n",
    "    knn_scores.append(report[\"accuracy\"])"
   ]
  },
  {
   "cell_type": "code",
   "execution_count": 10,
   "id": "0c502c5b",
   "metadata": {},
   "outputs": [
    {
     "data": {
      "image/png": "[encoded data removed]",
      "text/plain": [
       "<Figure size 800x500 with 1 Axes>"
      ]
     },
     "metadata": {},
     "output_type": "display_data"
    }
   ],
   "source": [
    "plt.figure(figsize=(8, 5))\n",
    "plt.plot(knn_values, knn_scores, marker='o', linestyle='--')\n",
    "plt.title('KNN Accuracy vs Number of Neighbors')\n",
    "plt.xlabel('Number of Neighbors (k)')\n",
    "plt.ylabel('Accuracy')\n",
    "plt.grid(True)\n",
    "plt.xticks(knn_values)\n",
    "plt.show()"
   ]
  },
  {
   "cell_type": "code",
   "execution_count": 11,
   "id": "df08a903",
   "metadata": {},
   "outputs": [
    {
     "name": "stdout",
     "output_type": "stream",
     "text": [
      "              precision    recall  f1-score   support\n",
      "\n",
      "     Bearish       0.30      0.71      0.42       122\n",
      "     Bullish       0.55      0.69      0.61       305\n",
      "     Neutral       0.94      0.78      0.85      1482\n",
      "\n",
      "    accuracy                           0.76      1909\n",
      "   macro avg       0.60      0.73      0.63      1909\n",
      "weighted avg       0.84      0.76      0.79      1909\n",
      "\n"
     ]
    }
   ],
   "source": [
    "best_k = 13\n",
    "best_knn = KNeighborsClassifier(n_neighbors=best_k, metric=\"cosine\", weights=\"distance\")\n",
    "best_knn.fit(X_train_bow, y_train)\n",
    "y_best_pred = best_knn.predict(X_test_bow)\n",
    "\n",
    "labels = {\"Bearish\":0, \"Bullish\":1, \"Neutral\":2}\n",
    "print(classification_report(y_best_pred, y_test, target_names = labels.keys()))"
   ]
  },
  {
   "cell_type": "code",
   "execution_count": 27,
   "id": "6a0f3d3f",
   "metadata": {},
   "outputs": [
    {
     "name": "stdout",
     "output_type": "stream",
     "text": [
      "Fitting 5 folds for each of 6 candidates, totalling 30 fits\n",
      "Best parameters found:  {'metric': 'cosine', 'n_neighbors': 13, 'weights': 'distance'}\n",
      "Best score:  0.6114179054992614\n",
      "              precision    recall  f1-score   support\n",
      "\n",
      "     Bearish       0.71      0.30      0.42       288\n",
      "     Bullish       0.69      0.55      0.61       385\n",
      "     Neutral       0.78      0.94      0.85      1236\n",
      "\n",
      "    accuracy                           0.76      1909\n",
      "   macro avg       0.73      0.60      0.63      1909\n",
      "weighted avg       0.75      0.76      0.74      1909\n",
      "\n"
     ]
    }
   ],
   "source": [
    "param_grid_knn = {\n",
    "    'n_neighbors': [13],\n",
    "    'weights': ['uniform', 'distance'],\n",
    "    'metric': ['euclidean', 'manhattan', 'cosine']\n",
    "}\n",
    "\n",
    "grid = GridSearchCV(\n",
    "    estimator=KNeighborsClassifier(),\n",
    "    param_grid=param_grid_knn,\n",
    "    scoring='f1_macro',\n",
    "    cv=5,\n",
    "    verbose=1\n",
    ")\n",
    "\n",
    "grid.fit(X_train_bow, y_train)\n",
    "print(\"Best parameters found: \", grid.best_params_)\n",
    "print(\"Best score: \", grid.best_score_)\n",
    "y_pred_grid = grid.predict(X_test_bow)\n",
    "print(classification_report(y_test, y_pred_grid, target_names=labels.keys()))"
   ]
  },
  {
   "cell_type": "markdown",
   "id": "8e357016",
   "metadata": {},
   "source": [
    "<hr>"
   ]
  },
  {
   "cell_type": "markdown",
   "id": "a5d73f2e",
   "metadata": {},
   "source": [
    "- TF-IDF"
   ]
  },
  {
   "cell_type": "code",
   "execution_count": 12,
   "id": "b13025ce",
   "metadata": {},
   "outputs": [],
   "source": [
    "knn_values = [1, 3, 5, 7, 9, 10, 11, 12, 13, 14, 15, 16, 17, 18, 19, 20]\n",
    "knn_scores = []\n",
    "for k in knn_values:\n",
    "    knn = KNeighborsClassifier(n_neighbors=k, metric=\"cosine\", weights=\"distance\")\n",
    "    knn.fit(X_train_tfidf, y_train)\n",
    "    y_pred = knn.predict(X_test_tfidf)\n",
    "    report = classification_report(y_test, y_pred, output_dict=True)\n",
    "    knn_scores.append(report[\"accuracy\"])"
   ]
  },
  {
   "cell_type": "code",
   "execution_count": 13,
   "id": "14e39295",
   "metadata": {},
   "outputs": [
    {
     "data": {
      "image/png": "[encoded data removed]",
      "text/plain": [
       "<Figure size 800x500 with 1 Axes>"
      ]
     },
     "metadata": {},
     "output_type": "display_data"
    }
   ],
   "source": [
    "plt.figure(figsize=(8, 5))\n",
    "plt.plot(knn_values, knn_scores, marker='o', linestyle='--')\n",
    "plt.title('KNN Accuracy vs Number of Neighbors')\n",
    "plt.xlabel('Number of Neighbors (k)')\n",
    "plt.ylabel('Accuracy')\n",
    "plt.grid(True)\n",
    "plt.xticks(knn_values)\n",
    "plt.show()"
   ]
  },
  {
   "cell_type": "code",
   "execution_count": 14,
   "id": "79b17b38",
   "metadata": {},
   "outputs": [
    {
     "name": "stdout",
     "output_type": "stream",
     "text": [
      "              precision    recall  f1-score   support\n",
      "\n",
      "     Bearish       0.39      0.75      0.51       150\n",
      "     Bullish       0.55      0.72      0.62       295\n",
      "     Neutral       0.95      0.80      0.87      1464\n",
      "\n",
      "    accuracy                           0.78      1909\n",
      "   macro avg       0.63      0.76      0.67      1909\n",
      "weighted avg       0.84      0.78      0.80      1909\n",
      "\n"
     ]
    }
   ],
   "source": [
    "best_k = 13\n",
    "best_knn = KNeighborsClassifier(n_neighbors=best_k, metric=\"cosine\", weights=\"distance\")\n",
    "best_knn.fit(X_train_tfidf, y_train)\n",
    "y_best_pred = best_knn.predict(X_test_tfidf)\n",
    "\n",
    "labels = {\"Bearish\":0, \"Bullish\":1, \"Neutral\":2}\n",
    "print(classification_report(y_best_pred, y_test, target_names = labels.keys()))"
   ]
  },
  {
   "cell_type": "markdown",
   "id": "ab851a88",
   "metadata": {},
   "source": [
    "- **INSIGHTS**: TF-IDF shows most prominent results, for same k VS BoW. No further refinemets will be made as we know that other methods will perform much better."
   ]
  },
  {
   "cell_type": "markdown",
   "id": "f5506f9f",
   "metadata": {},
   "source": [
    "<hr>\n",
    "<hr>\n",
    "<hr>"
   ]
  },
  {
   "cell_type": "markdown",
   "id": "4d5ec682",
   "metadata": {},
   "source": [
    "# TF-IDF with SVM (More powerful Model)"
   ]
  },
  {
   "cell_type": "markdown",
   "id": "12d8f3da",
   "metadata": {},
   "source": [
    "- Severe Overfitting"
   ]
  },
  {
   "cell_type": "code",
   "execution_count": null,
   "id": "df72177d",
   "metadata": {},
   "outputs": [
    {
     "name": "stdout",
     "output_type": "stream",
     "text": [
      "Fitting 3 folds for each of 180 candidates, totalling 540 fits\n"
     ]
    },
    {
     "name": "stderr",
     "output_type": "stream",
     "text": [
      "/opt/anaconda3/envs/DL/lib/python3.11/site-packages/sklearn/svm/_base.py:1249: ConvergenceWarning: Liblinear failed to converge, increase the number of iterations.\n",
      "  warnings.warn(\n",
      "/opt/anaconda3/envs/DL/lib/python3.11/site-packages/sklearn/svm/_base.py:1249: ConvergenceWarning: Liblinear failed to converge, increase the number of iterations.\n",
      "  warnings.warn(\n",
      "/opt/anaconda3/envs/DL/lib/python3.11/site-packages/sklearn/svm/_base.py:1249: ConvergenceWarning: Liblinear failed to converge, increase the number of iterations.\n",
      "  warnings.warn(\n",
      "/opt/anaconda3/envs/DL/lib/python3.11/site-packages/sklearn/svm/_base.py:1249: ConvergenceWarning: Liblinear failed to converge, increase the number of iterations.\n",
      "  warnings.warn(\n",
      "/opt/anaconda3/envs/DL/lib/python3.11/site-packages/sklearn/svm/_base.py:1249: ConvergenceWarning: Liblinear failed to converge, increase the number of iterations.\n",
      "  warnings.warn(\n",
      "/opt/anaconda3/envs/DL/lib/python3.11/site-packages/sklearn/svm/_base.py:1249: ConvergenceWarning: Liblinear failed to converge, increase the number of iterations.\n",
      "  warnings.warn(\n",
      "/opt/anaconda3/envs/DL/lib/python3.11/site-packages/sklearn/svm/_base.py:1249: ConvergenceWarning: Liblinear failed to converge, increase the number of iterations.\n",
      "  warnings.warn(\n",
      "/opt/anaconda3/envs/DL/lib/python3.11/site-packages/sklearn/svm/_base.py:1249: ConvergenceWarning: Liblinear failed to converge, increase the number of iterations.\n",
      "  warnings.warn(\n",
      "/opt/anaconda3/envs/DL/lib/python3.11/site-packages/sklearn/svm/_base.py:1249: ConvergenceWarning: Liblinear failed to converge, increase the number of iterations.\n",
      "  warnings.warn(\n"
     ]
    },
    {
     "name": "stdout",
     "output_type": "stream",
     "text": [
      "Best Parameters:\n",
      "{'svm__C': 9, 'svm__class_weight': 'balanced', 'tfidf__max_df': 0.75, 'tfidf__max_features': None, 'tfidf__min_df': 1, 'tfidf__ngram_range': (1, 2)}\n",
      "Best Cross-Validation Accuracy: 0.7189\n",
      "              precision    recall  f1-score   support\n",
      "\n",
      "     Bearish       0.59      0.73      0.65       232\n",
      "     Bullish       0.71      0.76      0.73       360\n",
      "     Neutral       0.92      0.86      0.89      1317\n",
      "\n",
      "    accuracy                           0.83      1909\n",
      "   macro avg       0.74      0.78      0.76      1909\n",
      "weighted avg       0.84      0.83      0.83      1909\n",
      "\n"
     ]
    }
   ],
   "source": [
    "# from sklearn.pipeline import Pipeline\n",
    "# from sklearn.svm import LinearSVC\n",
    "# from sklearn.model_selection import GridSearchCV\n",
    "\n",
    "# svm_pipeline = Pipeline([\n",
    "#     (\"tfidf\", TfidfVectorizer()),\n",
    "#     (\"svm\", LinearSVC())\n",
    "# ])\n",
    "\n",
    "# param_grid = {\n",
    "#     \"tfidf__ngram_range\": [(1,1), (1,2), (2,2)],\n",
    "#     \"tfidf__max_df\": [0.75, 0.85, 1.0],\n",
    "#     \"tfidf__min_df\": [1,2],\n",
    "#     \"tfidf__max_features\": [None],\n",
    "#     \"svm__C\": [8,9,10,11,12],\n",
    "#     \"svm__class_weight\": [None, \"balanced\"]\n",
    "# }\n",
    "\n",
    "\n",
    "# grid = GridSearchCV(\n",
    "#     svm_pipeline,\n",
    "#     param_grid=param_grid,\n",
    "#     scoring=\"f1_macro\",\n",
    "#     cv=3,\n",
    "#     verbose=1,\n",
    "# )\n",
    "\n",
    "\n",
    "# grid.fit(X_train, y_train)\n",
    "# # ─── Best Model ───\n",
    "# print(f\"Best Parameters:\\n{grid.best_params_}\")\n",
    "# print(f\"Best Cross-Validation Accuracy: {grid.best_score_:.4f}\")\n",
    "\n",
    "# y_pred = grid.predict(X_test)\n",
    "# labels = {\"Bearish\":0, \"Bullish\":1, \"Neutral\":2}\n",
    "# print(classification_report(y_pred, y_test, target_names = labels.keys()))"
   ]
  },
  {
   "cell_type": "code",
   "execution_count": null,
   "id": "32a50ab2",
   "metadata": {},
   "outputs": [
    {
     "name": "stdout",
     "output_type": "stream",
     "text": [
      "✅ Accuracy on Train Set: 0.9999\n",
      "✅ F1 Macro on Train Set: 0.9998\n",
      "\n",
      "📊 Train Set Classification Report:\n",
      "              precision    recall  f1-score   support\n",
      "\n",
      "     Bearish       1.00      1.00      1.00      1154\n",
      "     Bullish       1.00      1.00      1.00      1538\n",
      "     Neutral       1.00      1.00      1.00      4942\n",
      "\n",
      "    accuracy                           1.00      7634\n",
      "   macro avg       1.00      1.00      1.00      7634\n",
      "weighted avg       1.00      1.00      1.00      7634\n",
      "\n"
     ]
    }
   ],
   "source": [
    "# # Use the best model from grid search\n",
    "# best_model = grid.best_estimator_\n",
    "\n",
    "# # Predict on training data\n",
    "# y_train_pred = best_model.predict(X_train)\n",
    "\n",
    "# # Compute metrics\n",
    "# train_accuracy = accuracy_score(y_train, y_train_pred)\n",
    "# train_f1_macro = f1_score(y_train, y_train_pred, average=\"macro\")\n",
    "\n",
    "# print(f\"✅ Accuracy on Train Set: {train_accuracy:.4f}\")\n",
    "# print(f\"✅ F1 Macro on Train Set: {train_f1_macro:.4f}\")\n",
    "# print(\"\\n📊 Train Set Classification Report:\")\n",
    "# print(classification_report(y_train, y_train_pred, target_names=[\"Bearish\", \"Bullish\", \"Neutral\"]))"
   ]
  },
  {
   "cell_type": "markdown",
   "id": "5da48d80",
   "metadata": {},
   "source": [
    "### Revised Parameters:"
   ]
  },
  {
   "cell_type": "code",
   "execution_count": 50,
   "id": "a90902fc",
   "metadata": {},
   "outputs": [
    {
     "name": "stdout",
     "output_type": "stream",
     "text": [
      "📊 TRAIN SET\n",
      "Accuracy: 0.8601\n",
      "F1 Macro: 0.8101\n",
      "              precision    recall  f1-score   support\n",
      "\n",
      "     Bearish       0.76      0.71      0.74      1154\n",
      "     Bullish       0.80      0.77      0.78      1538\n",
      "     Neutral       0.90      0.92      0.91      4942\n",
      "\n",
      "    accuracy                           0.86      7634\n",
      "   macro avg       0.82      0.80      0.81      7634\n",
      "weighted avg       0.86      0.86      0.86      7634\n",
      "\n",
      "\n",
      "📊 TEST SET\n",
      "Accuracy: 0.8036\n",
      "F1 Macro: 0.7226\n",
      "              precision    recall  f1-score   support\n",
      "\n",
      "     Bearish       0.66      0.56      0.60       288\n",
      "     Bullish       0.73      0.65      0.69       385\n",
      "     Neutral       0.85      0.91      0.88      1236\n",
      "\n",
      "    accuracy                           0.80      1909\n",
      "   macro avg       0.75      0.70      0.72      1909\n",
      "weighted avg       0.80      0.80      0.80      1909\n",
      "\n"
     ]
    }
   ],
   "source": [
    "svm_pipeline = Pipeline([\n",
    "    (\"tfidf\", TfidfVectorizer(max_features=2000, ngram_range=(1,1), max_df=0.75, min_df=5)),\n",
    "    (\"svm\", LinearSVC(C=0.1, class_weight=\"balanced\"))\n",
    "])\n",
    "\n",
    "\n",
    "svm_pipeline.fit(X_train, y_train)\n",
    "\n",
    "# ─── Predict ───\n",
    "y_train_pred = svm_pipeline.predict(X_train)\n",
    "y_test_pred = svm_pipeline.predict(X_test)\n",
    "\n",
    "# ─── Train Metrics ───\n",
    "train_accuracy = accuracy_score(y_train, y_train_pred)\n",
    "train_f1 = f1_score(y_train, y_train_pred, average=\"macro\")\n",
    "\n",
    "# ─── Test Metrics ───\n",
    "test_accuracy = accuracy_score(y_test, y_test_pred)\n",
    "test_f1 = f1_score(y_test, y_test_pred, average=\"macro\")\n",
    "\n",
    "# ─── Report ───\n",
    "print(f\"📊 TRAIN SET\")\n",
    "print(f\"Accuracy: {train_accuracy:.4f}\")\n",
    "print(f\"F1 Macro: {train_f1:.4f}\")\n",
    "print(classification_report(y_train, y_train_pred, target_names=[\"Bearish\", \"Bullish\", \"Neutral\"]))\n",
    "\n",
    "print(f\"\\n📊 TEST SET\")\n",
    "print(f\"Accuracy: {test_accuracy:.4f}\")\n",
    "print(f\"F1 Macro: {test_f1:.4f}\")\n",
    "print(classification_report(y_test, y_test_pred, target_names=[\"Bearish\", \"Bullish\", \"Neutral\"]))"
   ]
  },
  {
   "cell_type": "markdown",
   "id": "77b4676a",
   "metadata": {},
   "source": [
    "<hr>\n",
    "<hr>\n",
    "<hr>"
   ]
  }
 ],
 "metadata": {
  "kernelspec": {
   "display_name": "DL",
   "language": "python",
   "name": "python3"
  },
  "language_info": {
   "codemirror_mode": {
    "name": "ipython",
    "version": 3
   },
   "file_extension": ".py",
   "mimetype": "text/x-python",
   "name": "python",
   "nbconvert_exporter": "python",
   "pygments_lexer": "ipython3",
   "version": "3.11.11"
  }
 },
 "nbformat": 4,
 "nbformat_minor": 5
}
